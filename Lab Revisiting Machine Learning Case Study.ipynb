{
 "cells": [
  {
   "cell_type": "code",
   "execution_count": null,
   "id": "046cb47b",
   "metadata": {},
   "outputs": [],
   "source": [
    "import pandas as pd"
   ]
  },
  {
   "cell_type": "code",
   "execution_count": null,
   "id": "f11de689",
   "metadata": {},
   "outputs": [],
   "source": [
    "df = pd.read_csv('learningSet.csv')"
   ]
  },
  {
   "cell_type": "code",
   "execution_count": null,
   "id": "093e3441",
   "metadata": {},
   "outputs": [],
   "source": [
    "null_values = df.isnull().sum()"
   ]
  },
  {
   "cell_type": "code",
   "execution_count": null,
   "id": "46b5cb4f",
   "metadata": {},
   "outputs": [],
   "source": [
    "null_values"
   ]
  },
  {
   "cell_type": "code",
   "execution_count": null,
   "id": "efdbcff3",
   "metadata": {},
   "outputs": [],
   "source": [
    "drop_list = ['OSOURCE', 'ZIP']"
   ]
  },
  {
   "cell_type": "code",
   "execution_count": null,
   "id": "21aaa8e0",
   "metadata": {},
   "outputs": [],
   "source": [
    "missing_percentage = df.isnull().sum() / len(df)\n",
    "columns_to_drop = missing_percentage[missing_percentage > 0.85].index.tolist()\n",
    "drop_list.extend(columns_to_drop)"
   ]
  },
  {
   "cell_type": "code",
   "execution_count": null,
   "id": "c592fbbb",
   "metadata": {},
   "outputs": [],
   "source": [
    "df = df.drop(columns=drop_list)"
   ]
  },
  {
   "cell_type": "code",
   "execution_count": null,
   "id": "4a9377b7",
   "metadata": {},
   "outputs": [],
   "source": [
    "gender_counts_before = df['GENDER'].value_counts()\n",
    "df['GENDER'] = df['GENDER'].fillna('F')\n",
    "df['GENDER'] = df['GENDER'].apply(lambda x: x if x in ['M', 'F'] else 'other')\n",
    "gender_counts_after = df['GENDER'].value_counts()"
   ]
  }
 ],
 "metadata": {
  "kernelspec": {
   "display_name": "Python 3 (ipykernel)",
   "language": "python",
   "name": "python3"
  },
  "language_info": {
   "codemirror_mode": {
    "name": "ipython",
    "version": 3
   },
   "file_extension": ".py",
   "mimetype": "text/x-python",
   "name": "python",
   "nbconvert_exporter": "python",
   "pygments_lexer": "ipython3",
   "version": "3.11.5"
  },
  "toc": {
   "base_numbering": 1,
   "nav_menu": {},
   "number_sections": true,
   "sideBar": true,
   "skip_h1_title": false,
   "title_cell": "Table of Contents",
   "title_sidebar": "Contents",
   "toc_cell": false,
   "toc_position": {},
   "toc_section_display": true,
   "toc_window_display": false
  }
 },
 "nbformat": 4,
 "nbformat_minor": 5
}
